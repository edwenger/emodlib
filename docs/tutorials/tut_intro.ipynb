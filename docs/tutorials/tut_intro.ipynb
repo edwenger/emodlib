{
 "cells": [
  {
   "attachments": {},
   "cell_type": "markdown",
   "metadata": {},
   "source": [
    "# T1 - Getting Started "
   ]
  },
  {
   "attachments": {},
   "cell_type": "markdown",
   "metadata": {},
   "source": [
    "To install just type `pip install emodlib`.  If it worked, you should be able to call `import emodlib`.\n",
    "\n",
    "In this first tutorial, we'll introduce the basics of:\n",
    "\n",
    "- Setting parameters\n",
    "- Simulating an infected individual\n",
    "- Inspecting individual model state"
   ]
  },
  {
   "attachments": {},
   "cell_type": "markdown",
   "metadata": {},
   "source": [
    "## Defining simulation parameters"
   ]
  },
  {
   "attachments": {},
   "cell_type": "markdown",
   "metadata": {},
   "source": [
    "First let's look at the default malaria intra-host model parameters that are loaded on import..."
   ]
  },
  {
   "cell_type": "code",
   "execution_count": 7,
   "metadata": {},
   "outputs": [
    {
     "name": "stdout",
     "output_type": "stream",
     "text": [
      "Base_Gametocyte_Mosquito_Survival_Rate: 0.002011099\n",
      "Cytokine_Gametocyte_Inactivation: 0.01667\n",
      "Falciparum_MSP_Variants: 32\n",
      "Falciparum_Nonspecific_Types: 76\n",
      "Falciparum_PfEMP1_Variants: 1070\n",
      "Max_Individual_Infections: 5\n",
      "Run_Number: 6789\n",
      "infection_params:\n",
      "  Antibody_IRBC_Kill_Rate: 1.596\n",
      "  Antigen_Switch_Rate: 7.645570124964182e-10\n",
      "  Base_Gametocyte_Fraction_Male: 0.2\n",
      "  Base_Gametocyte_Production_Rate: 0.06150582\n",
      "  Base_Incubation_Period: 7\n",
      "  Gametocyte_Stage_Survival_Rate: 0.588569307\n",
      "  MSP1_Merozoite_Kill_Fraction: 0.511735322\n",
      "  Merozoites_Per_Hepatocyte: 15000\n",
      "  Merozoites_Per_Schizont: 16\n",
      "  Nonspecific_Antigenicity_Factor: 0.415111634\n",
      "  Number_Of_Asexual_Cycles_Without_Gametocytes: 1\n",
      "  RBC_Destruction_Multiplier: 3.29\n",
      "susceptibility_params:\n",
      "  Antibody_CSP_Decay_Days: 99\n",
      "  Antibody_Capacity_Growth_Rate: 0.09\n",
      "  Antibody_Memory_Level: 0.34\n",
      "  Antibody_Stimulation_C50: 30\n",
      "  Erythropoiesis_Anemia_Effect: 3.5\n",
      "  Fever_IRBC_Kill_Rate: 1.4\n",
      "  Maternal_Antibody_Decay_Rate: 0.01\n",
      "  Max_MSP1_Antibody_Growthrate: 0.045\n",
      "  Min_Adapted_Response: 0.05\n",
      "  Nonspecific_Antibody_Growth_Rate_Factor: 0.5\n",
      "  Pyrogenic_Threshold: 15000.0\n",
      "\n"
     ]
    }
   ],
   "source": [
    "import yaml\n",
    "from emodlib.malaria import IntrahostComponent\n",
    "print(yaml.dump(IntrahostComponent.params))"
   ]
  },
  {
   "attachments": {},
   "cell_type": "markdown",
   "metadata": {},
   "source": [
    "We can layer in modifications to arbitrary parameters (on top of existing defaults) by passing a dictionary to the configure function..."
   ]
  },
  {
   "cell_type": "code",
   "execution_count": 8,
   "metadata": {},
   "outputs": [
    {
     "name": "stdout",
     "output_type": "stream",
     "text": [
      "Base_Gametocyte_Mosquito_Survival_Rate: 0.002011099\n",
      "Cytokine_Gametocyte_Inactivation: 0.01667\n",
      "Falciparum_MSP_Variants: 32\n",
      "Falciparum_Nonspecific_Types: 76\n",
      "Falciparum_PfEMP1_Variants: 1070\n",
      "Max_Individual_Infections: 5\n",
      "Run_Number: 6789\n",
      "infection_params:\n",
      "  Antibody_IRBC_Kill_Rate: 1.596\n",
      "  Antigen_Switch_Rate: 7.645570124964182e-10\n",
      "  Base_Gametocyte_Fraction_Male: 0.2\n",
      "  Base_Gametocyte_Production_Rate: 0.06150582\n",
      "  Base_Incubation_Period: 7\n",
      "  Gametocyte_Stage_Survival_Rate: 0.588569307\n",
      "  MSP1_Merozoite_Kill_Fraction: 0.511735322\n",
      "  Merozoites_Per_Hepatocyte: 15000\n",
      "  Merozoites_Per_Schizont: 16\n",
      "  Nonspecific_Antigenicity_Factor: 0.415111634\n",
      "  Number_Of_Asexual_Cycles_Without_Gametocytes: 1\n",
      "  RBC_Destruction_Multiplier: 3.29\n",
      "susceptibility_params:\n",
      "  Antibody_CSP_Decay_Days: 99\n",
      "  Antibody_Capacity_Growth_Rate: 0.09\n",
      "  Antibody_Memory_Level: 0.34\n",
      "  Antibody_Stimulation_C50: 30\n",
      "  Erythropoiesis_Anemia_Effect: 3.5\n",
      "  Fever_IRBC_Kill_Rate: 1.4\n",
      "  Maternal_Antibody_Decay_Rate: 0.01\n",
      "  Max_MSP1_Antibody_Growthrate: 0.045\n",
      "  Min_Adapted_Response: 0.05\n",
      "  Nonspecific_Antibody_Growth_Rate_Factor: 0.5\n",
      "  Pyrogenic_Threshold: 15000.0\n",
      "\n"
     ]
    }
   ],
   "source": [
    "IntrahostComponent.configure(dict(Run_Number=6789, susceptibility_params=dict(Antibody_CSP_Decay_Days=99)))\n",
    "print(yaml.dump(IntrahostComponent.params))"
   ]
  },
  {
   "attachments": {},
   "cell_type": "markdown",
   "metadata": {},
   "source": [
    "## Simulating an infection in a naive host"
   ]
  },
  {
   "attachments": {},
   "cell_type": "markdown",
   "metadata": {},
   "source": [
    "Now let's import the python bindings for the `emodlib.malaria` library, configure the static parameters of the intra-host model, and create a naive host..."
   ]
  },
  {
   "cell_type": "code",
   "execution_count": 9,
   "metadata": {},
   "outputs": [],
   "source": [
    "from emodlib.malaria import IntrahostComponent\n",
    "\n",
    "ic = IntrahostComponent.create()"
   ]
  },
  {
   "attachments": {},
   "cell_type": "markdown",
   "metadata": {},
   "source": [
    "Let's subject our naive host to an infectious challenge..."
   ]
  },
  {
   "cell_type": "code",
   "execution_count": 10,
   "metadata": {},
   "outputs": [],
   "source": [
    "ic.challenge()"
   ]
  },
  {
   "attachments": {},
   "cell_type": "markdown",
   "metadata": {},
   "source": [
    "Now let's define a little helper function to print a descriptive line for the model state..."
   ]
  },
  {
   "cell_type": "code",
   "execution_count": 11,
   "metadata": {},
   "outputs": [],
   "source": [
    "def describe(c, t=None):\n",
    "    \"\"\" Helper function to print a description of the intra-host model state \"\"\"\n",
    "    s = 't=%d: ' % t if t is not None else ''\n",
    "    s += '(asexual, mature gametocyte, fever, infectiousness) = (%0.2f, %0.3f, %0.1f %0.2f)' % \\\n",
    "        (c.parasite_density, c.gametocyte_density, c.fever_temperature, c.infectiousness)\n",
    "    print(s)"
   ]
  },
  {
   "attachments": {},
   "cell_type": "markdown",
   "metadata": {},
   "source": [
    "Let's do enough timestep updates to see the emergence of asexual-stage parasites from the liver, the onset of fever with high parasite density, and the progression of differentiated gametocytes to mature gametocytes..."
   ]
  },
  {
   "cell_type": "code",
   "execution_count": 12,
   "metadata": {},
   "outputs": [
    {
     "name": "stdout",
     "output_type": "stream",
     "text": [
      "t=0: (asexual, mature gametocyte, fever, infectiousness) = (0.00, 0.000, 37.0 0.00)\n",
      "t=1: (asexual, mature gametocyte, fever, infectiousness) = (0.00, 0.000, 37.0 0.00)\n",
      "t=2: (asexual, mature gametocyte, fever, infectiousness) = (0.00, 0.000, 37.0 0.00)\n",
      "t=3: (asexual, mature gametocyte, fever, infectiousness) = (0.00, 0.000, 37.0 0.00)\n",
      "t=4: (asexual, mature gametocyte, fever, infectiousness) = (0.00, 0.000, 37.0 0.00)\n",
      "t=5: (asexual, mature gametocyte, fever, infectiousness) = (0.00, 0.000, 37.0 0.00)\n",
      "t=6: (asexual, mature gametocyte, fever, infectiousness) = (0.00, 0.000, 37.0 0.00)\n",
      "t=7: (asexual, mature gametocyte, fever, infectiousness) = (0.00, 0.000, 37.0 0.00)\n",
      "t=8: (asexual, mature gametocyte, fever, infectiousness) = (0.05, 0.000, 37.0 0.00)\n",
      "t=9: (asexual, mature gametocyte, fever, infectiousness) = (0.05, 0.000, 37.0 0.00)\n",
      "t=10: (asexual, mature gametocyte, fever, infectiousness) = (0.71, 0.000, 37.0 0.00)\n",
      "t=11: (asexual, mature gametocyte, fever, infectiousness) = (0.71, 0.000, 37.0 0.00)\n",
      "t=12: (asexual, mature gametocyte, fever, infectiousness) = (10.61, 0.000, 37.0 0.00)\n",
      "t=13: (asexual, mature gametocyte, fever, infectiousness) = (10.61, 0.000, 37.0 0.00)\n",
      "t=14: (asexual, mature gametocyte, fever, infectiousness) = (158.18, 0.000, 37.0 0.00)\n",
      "t=15: (asexual, mature gametocyte, fever, infectiousness) = (158.18, 0.000, 37.1 0.00)\n",
      "t=16: (asexual, mature gametocyte, fever, infectiousness) = (2359.20, 0.000, 37.1 0.00)\n",
      "t=17: (asexual, mature gametocyte, fever, infectiousness) = (2359.20, 0.000, 38.1 0.00)\n",
      "t=18: (asexual, mature gametocyte, fever, infectiousness) = (35184.98, 0.000, 38.1 0.00)\n",
      "t=19: (asexual, mature gametocyte, fever, infectiousness) = (6473.19, 0.000, 43.2 0.00)\n",
      "t=20: (asexual, mature gametocyte, fever, infectiousness) = (17370.00, 0.002, 41.9 0.00)\n",
      "t=21: (asexual, mature gametocyte, fever, infectiousness) = (2538.02, 0.002, 44.6 0.00)\n",
      "t=22: (asexual, mature gametocyte, fever, infectiousness) = (11727.42, 0.031, 37.0 0.00)\n",
      "t=23: (asexual, mature gametocyte, fever, infectiousness) = (2824.26, 0.023, 37.6 0.00)\n",
      "t=24: (asexual, mature gametocyte, fever, infectiousness) = (8699.16, 0.461, 37.0 0.00)\n",
      "t=25: (asexual, mature gametocyte, fever, infectiousness) = (1623.44, 0.350, 37.6 0.00)\n",
      "t=26: (asexual, mature gametocyte, fever, infectiousness) = (4165.22, 6.887, 37.0 0.03)\n",
      "t=27: (asexual, mature gametocyte, fever, infectiousness) = (610.47, 5.221, 37.4 0.00)\n",
      "t=28: (asexual, mature gametocyte, fever, infectiousness) = (1190.85, 102.723, 37.0 0.34)\n",
      "t=29: (asexual, mature gametocyte, fever, infectiousness) = (148.42, 77.867, 37.2 0.09)\n"
     ]
    }
   ],
   "source": [
    "for t in range(30):\n",
    "    ic.update(dt=1)\n",
    "    describe(ic, t)"
   ]
  },
  {
   "attachments": {},
   "cell_type": "markdown",
   "metadata": {},
   "source": [
    "And finally treat the individual and see their infections are now gone...\n",
    "\n"
   ]
  },
  {
   "cell_type": "code",
   "execution_count": 13,
   "metadata": {},
   "outputs": [
    {
     "name": "stdout",
     "output_type": "stream",
     "text": [
      "(asexual, mature gametocyte, fever, infectiousness) = (0.00, 0.000, 37.2 0.00)\n"
     ]
    }
   ],
   "source": [
    "ic.treat()\n",
    "describe(ic)"
   ]
  }
 ],
 "metadata": {
  "kernelspec": {
   "display_name": "Python 3 (ipykernel)",
   "language": "python",
   "name": "python3"
  },
  "language_info": {
   "codemirror_mode": {
    "name": "ipython",
    "version": 3
   },
   "file_extension": ".py",
   "mimetype": "text/x-python",
   "name": "python",
   "nbconvert_exporter": "python",
   "pygments_lexer": "ipython3",
   "version": "3.11.3"
  }
 },
 "nbformat": 4,
 "nbformat_minor": 2
}
